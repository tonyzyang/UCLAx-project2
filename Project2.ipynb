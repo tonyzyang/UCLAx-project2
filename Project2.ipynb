{
 "cells": [
  {
   "cell_type": "code",
   "execution_count": 18,
   "metadata": {},
   "outputs": [
    {
     "name": "stderr",
     "output_type": "stream",
     "text": [
      "Updating HTML index of packages in '.Library'\n",
      "Making 'packages.html' ... done\n"
     ]
    }
   ],
   "source": [
    "install.packages(\"mlbench\")"
   ]
  },
  {
   "cell_type": "code",
   "execution_count": 19,
   "metadata": {},
   "outputs": [],
   "source": [
    "adult = read.csv('adult.data.txt')"
   ]
  },
  {
   "cell_type": "code",
   "execution_count": 20,
   "metadata": {},
   "outputs": [
    {
     "data": {
      "text/html": [
       "<ol class=list-inline>\n",
       "\t<li>32560</li>\n",
       "\t<li>15</li>\n",
       "</ol>\n"
      ],
      "text/latex": [
       "\\begin{enumerate*}\n",
       "\\item 32560\n",
       "\\item 15\n",
       "\\end{enumerate*}\n"
      ],
      "text/markdown": [
       "1. 32560\n",
       "2. 15\n",
       "\n",
       "\n"
      ],
      "text/plain": [
       "[1] 32560    15"
      ]
     },
     "metadata": {},
     "output_type": "display_data"
    },
    {
     "data": {
      "text/html": [
       "<ol class=list-inline>\n",
       "\t<li>' &lt;=50K'</li>\n",
       "\t<li>' &gt;50K'</li>\n",
       "</ol>\n"
      ],
      "text/latex": [
       "\\begin{enumerate*}\n",
       "\\item ' <=50K'\n",
       "\\item ' >50K'\n",
       "\\end{enumerate*}\n"
      ],
      "text/markdown": [
       "1. ' &lt;=50K'\n",
       "2. ' &gt;50K'\n",
       "\n",
       "\n"
      ],
      "text/plain": [
       "[1] \" <=50K\" \" >50K\" "
      ]
     },
     "metadata": {},
     "output_type": "display_data"
    },
    {
     "data": {
      "text/html": [
       "<table>\n",
       "<thead><tr><th scope=col>X39</th><th scope=col>State.gov</th><th scope=col>X77516</th><th scope=col>Bachelors</th><th scope=col>X13</th><th scope=col>Never.married</th><th scope=col>Adm.clerical</th><th scope=col>Not.in.family</th><th scope=col>White</th><th scope=col>Male</th><th scope=col>X2174</th><th scope=col>X0</th><th scope=col>X40</th><th scope=col>United.States</th><th scope=col>X..50K</th></tr></thead>\n",
       "<tbody>\n",
       "\t<tr><td>50                                                            </td><td> Self-emp-not-inc                                             </td><td> 83311                                                        </td><td> Bachelors                                                    </td><td>13                                                            </td><td><span style=white-space:pre-wrap> Married-civ-spouse   </span></td><td><span style=white-space:pre-wrap> Exec-managerial  </span>    </td><td><span style=white-space:pre-wrap> Husband      </span>        </td><td> White                                                        </td><td><span style=white-space:pre-wrap> Male  </span>               </td><td>0                                                             </td><td>0                                                             </td><td>13                                                            </td><td> United-States                                                </td><td> &lt;=50K                                                     </td></tr>\n",
       "\t<tr><td>38                                                            </td><td><span style=white-space:pre-wrap> Private         </span>     </td><td>215646                                                        </td><td><span style=white-space:pre-wrap> HS-grad  </span>            </td><td> 9                                                            </td><td><span style=white-space:pre-wrap> Divorced             </span></td><td> Handlers-cleaners                                            </td><td> Not-in-family                                                </td><td> White                                                        </td><td><span style=white-space:pre-wrap> Male  </span>               </td><td>0                                                             </td><td>0                                                             </td><td>40                                                            </td><td> United-States                                                </td><td> &lt;=50K                                                     </td></tr>\n",
       "\t<tr><td>53                                                            </td><td><span style=white-space:pre-wrap> Private         </span>     </td><td>234721                                                        </td><td><span style=white-space:pre-wrap> 11th     </span>            </td><td> 7                                                            </td><td><span style=white-space:pre-wrap> Married-civ-spouse   </span></td><td> Handlers-cleaners                                            </td><td><span style=white-space:pre-wrap> Husband      </span>        </td><td> Black                                                        </td><td><span style=white-space:pre-wrap> Male  </span>               </td><td>0                                                             </td><td>0                                                             </td><td>40                                                            </td><td> United-States                                                </td><td> &lt;=50K                                                     </td></tr>\n",
       "\t<tr><td>28                                                            </td><td><span style=white-space:pre-wrap> Private         </span>     </td><td>338409                                                        </td><td> Bachelors                                                    </td><td>13                                                            </td><td><span style=white-space:pre-wrap> Married-civ-spouse   </span></td><td><span style=white-space:pre-wrap> Prof-specialty   </span>    </td><td><span style=white-space:pre-wrap> Wife         </span>        </td><td> Black                                                        </td><td> Female                                                       </td><td>0                                                             </td><td>0                                                             </td><td>40                                                            </td><td><span style=white-space:pre-wrap> Cuba         </span>        </td><td> &lt;=50K                                                     </td></tr>\n",
       "\t<tr><td>37                                                            </td><td><span style=white-space:pre-wrap> Private         </span>     </td><td>284582                                                        </td><td><span style=white-space:pre-wrap> Masters  </span>            </td><td>14                                                            </td><td><span style=white-space:pre-wrap> Married-civ-spouse   </span></td><td><span style=white-space:pre-wrap> Exec-managerial  </span>    </td><td><span style=white-space:pre-wrap> Wife         </span>        </td><td> White                                                        </td><td> Female                                                       </td><td>0                                                             </td><td>0                                                             </td><td>40                                                            </td><td> United-States                                                </td><td> &lt;=50K                                                     </td></tr>\n",
       "\t<tr><td>49                                                        </td><td><span style=white-space:pre-wrap> Private         </span> </td><td>160187                                                    </td><td><span style=white-space:pre-wrap> 9th      </span>        </td><td> 5                                                        </td><td> Married-spouse-absent                                    </td><td><span style=white-space:pre-wrap> Other-service    </span></td><td> Not-in-family                                            </td><td> Black                                                    </td><td> Female                                                   </td><td>0                                                         </td><td>0                                                         </td><td>16                                                        </td><td><span style=white-space:pre-wrap> Jamaica      </span>    </td><td> &lt;=50K                                                 </td></tr>\n",
       "</tbody>\n",
       "</table>\n"
      ],
      "text/latex": [
       "\\begin{tabular}{r|lllllllllllllll}\n",
       " X39 & State.gov & X77516 & Bachelors & X13 & Never.married & Adm.clerical & Not.in.family & White & Male & X2174 & X0 & X40 & United.States & X..50K\\\\\n",
       "\\hline\n",
       "\t 50                     &  Self-emp-not-inc      &  83311                 &  Bachelors             & 13                     &  Married-civ-spouse    &  Exec-managerial       &  Husband               &  White                 &  Male                  & 0                      & 0                      & 13                     &  United-States         &  <=50K                \\\\\n",
       "\t 38                     &  Private               & 215646                 &  HS-grad               &  9                     &  Divorced              &  Handlers-cleaners     &  Not-in-family         &  White                 &  Male                  & 0                      & 0                      & 40                     &  United-States         &  <=50K                \\\\\n",
       "\t 53                     &  Private               & 234721                 &  11th                  &  7                     &  Married-civ-spouse    &  Handlers-cleaners     &  Husband               &  Black                 &  Male                  & 0                      & 0                      & 40                     &  United-States         &  <=50K                \\\\\n",
       "\t 28                     &  Private               & 338409                 &  Bachelors             & 13                     &  Married-civ-spouse    &  Prof-specialty        &  Wife                  &  Black                 &  Female                & 0                      & 0                      & 40                     &  Cuba                  &  <=50K                \\\\\n",
       "\t 37                     &  Private               & 284582                 &  Masters               & 14                     &  Married-civ-spouse    &  Exec-managerial       &  Wife                  &  White                 &  Female                & 0                      & 0                      & 40                     &  United-States         &  <=50K                \\\\\n",
       "\t 49                     &  Private               & 160187                 &  9th                   &  5                     &  Married-spouse-absent &  Other-service         &  Not-in-family         &  Black                 &  Female                & 0                      & 0                      & 16                     &  Jamaica               &  <=50K                \\\\\n",
       "\\end{tabular}\n"
      ],
      "text/markdown": [
       "\n",
       "X39 | State.gov | X77516 | Bachelors | X13 | Never.married | Adm.clerical | Not.in.family | White | Male | X2174 | X0 | X40 | United.States | X..50K | \n",
       "|---|---|---|---|---|---|\n",
       "| 50                     |  Self-emp-not-inc      |  83311                 |  Bachelors             | 13                     |  Married-civ-spouse    |  Exec-managerial       |  Husband               |  White                 |  Male                  | 0                      | 0                      | 13                     |  United-States         |  <=50K                 | \n",
       "| 38                     |  Private               | 215646                 |  HS-grad               |  9                     |  Divorced              |  Handlers-cleaners     |  Not-in-family         |  White                 |  Male                  | 0                      | 0                      | 40                     |  United-States         |  <=50K                 | \n",
       "| 53                     |  Private               | 234721                 |  11th                  |  7                     |  Married-civ-spouse    |  Handlers-cleaners     |  Husband               |  Black                 |  Male                  | 0                      | 0                      | 40                     |  United-States         |  <=50K                 | \n",
       "| 28                     |  Private               | 338409                 |  Bachelors             | 13                     |  Married-civ-spouse    |  Prof-specialty        |  Wife                  |  Black                 |  Female                | 0                      | 0                      | 40                     |  Cuba                  |  <=50K                 | \n",
       "| 37                     |  Private               | 284582                 |  Masters               | 14                     |  Married-civ-spouse    |  Exec-managerial       |  Wife                  |  White                 |  Female                | 0                      | 0                      | 40                     |  United-States         |  <=50K                 | \n",
       "| 49                     |  Private               | 160187                 |  9th                   |  5                     |  Married-spouse-absent |  Other-service         |  Not-in-family         |  Black                 |  Female                | 0                      | 0                      | 16                     |  Jamaica               |  <=50K                 | \n",
       "\n",
       "\n"
      ],
      "text/plain": [
       "  X39 State.gov         X77516 Bachelors  X13 Never.married         \n",
       "1 50   Self-emp-not-inc  83311  Bachelors 13   Married-civ-spouse   \n",
       "2 38   Private          215646  HS-grad    9   Divorced             \n",
       "3 53   Private          234721  11th       7   Married-civ-spouse   \n",
       "4 28   Private          338409  Bachelors 13   Married-civ-spouse   \n",
       "5 37   Private          284582  Masters   14   Married-civ-spouse   \n",
       "6 49   Private          160187  9th        5   Married-spouse-absent\n",
       "  Adm.clerical       Not.in.family  White  Male    X2174 X0 X40 United.States \n",
       "1  Exec-managerial    Husband        White  Male   0     0  13   United-States\n",
       "2  Handlers-cleaners  Not-in-family  White  Male   0     0  40   United-States\n",
       "3  Handlers-cleaners  Husband        Black  Male   0     0  40   United-States\n",
       "4  Prof-specialty     Wife           Black  Female 0     0  40   Cuba         \n",
       "5  Exec-managerial    Wife           White  Female 0     0  40   United-States\n",
       "6  Other-service      Not-in-family  Black  Female 0     0  16   Jamaica      \n",
       "  X..50K\n",
       "1  <=50K\n",
       "2  <=50K\n",
       "3  <=50K\n",
       "4  <=50K\n",
       "5  <=50K\n",
       "6  <=50K"
      ]
     },
     "metadata": {},
     "output_type": "display_data"
    }
   ],
   "source": [
    "dim(adult)\n",
    "levels(adult$X..50K)\n",
    "head(adult)"
   ]
  },
  {
   "cell_type": "code",
   "execution_count": 21,
   "metadata": {},
   "outputs": [],
   "source": [
    "adult <- na.omit(adult)"
   ]
  },
  {
   "cell_type": "code",
   "execution_count": 22,
   "metadata": {},
   "outputs": [
    {
     "data": {
      "text/plain": [
       "      X39                    State.gov         X77516       \n",
       " Min.   :17.00    Private         :22696   Min.   :  12285  \n",
       " 1st Qu.:28.00    Self-emp-not-inc: 2541   1st Qu.: 117832  \n",
       " Median :37.00    Local-gov       : 2093   Median : 178363  \n",
       " Mean   :38.58    ?               : 1836   Mean   : 189782  \n",
       " 3rd Qu.:48.00    State-gov       : 1297   3rd Qu.: 237054  \n",
       " Max.   :90.00    Self-emp-inc    : 1116   Max.   :1484705  \n",
       "                 (Other)          :  981                    \n",
       "         Bachelors          X13                       Never.married  \n",
       "  HS-grad     :10501   Min.   : 1.00    Divorced             : 4443  \n",
       "  Some-college: 7291   1st Qu.: 9.00    Married-AF-spouse    :   23  \n",
       "  Bachelors   : 5354   Median :10.00    Married-civ-spouse   :14976  \n",
       "  Masters     : 1723   Mean   :10.08    Married-spouse-absent:  418  \n",
       "  Assoc-voc   : 1382   3rd Qu.:12.00    Never-married        :10682  \n",
       "  11th        : 1175   Max.   :16.00    Separated            : 1025  \n",
       " (Other)      : 5134                    Widowed              :  993  \n",
       "           Adm.clerical          Not.in.family                   White      \n",
       "  Prof-specialty :4140    Husband       :13193    Amer-Indian-Eskimo:  311  \n",
       "  Craft-repair   :4099    Not-in-family : 8304    Asian-Pac-Islander: 1039  \n",
       "  Exec-managerial:4066    Other-relative:  981    Black             : 3124  \n",
       "  Adm-clerical   :3769    Own-child     : 5068    Other             :  271  \n",
       "  Sales          :3650    Unmarried     : 3446    White             :27815  \n",
       "  Other-service  :3295    Wife          : 1568                              \n",
       " (Other)         :9541                                                      \n",
       "      Male           X2174             X0               X40       \n",
       "  Female:10771   Min.   :    0   Min.   :   0.00   Min.   : 1.00  \n",
       "  Male  :21789   1st Qu.:    0   1st Qu.:   0.00   1st Qu.:40.00  \n",
       "                 Median :    0   Median :   0.00   Median :40.00  \n",
       "                 Mean   : 1078   Mean   :  87.31   Mean   :40.44  \n",
       "                 3rd Qu.:    0   3rd Qu.:   0.00   3rd Qu.:45.00  \n",
       "                 Max.   :99999   Max.   :4356.00   Max.   :99.00  \n",
       "                                                                  \n",
       "        United.States      X..50K     \n",
       "  United-States:29169    <=50K:24719  \n",
       "  Mexico       :  643    >50K : 7841  \n",
       "  ?            :  583                 \n",
       "  Philippines  :  198                 \n",
       "  Germany      :  137                 \n",
       "  Canada       :  121                 \n",
       " (Other)       : 1709                 "
      ]
     },
     "metadata": {},
     "output_type": "display_data"
    }
   ],
   "source": [
    "summary(adult)"
   ]
  },
  {
   "cell_type": "code",
   "execution_count": 23,
   "metadata": {},
   "outputs": [],
   "source": [
    "library(caret)"
   ]
  },
  {
   "cell_type": "code",
   "execution_count": 24,
   "metadata": {},
   "outputs": [],
   "source": [
    "library(ggplot2)\n",
    "library(plyr)\n",
    "library(ROCR)\n",
    "\n",
    "colnames(adult) <- c('age', 'workclass', 'fnlwgt', 'education', \n",
    "                     'education_num', 'marital_status', 'occupation', 'relationship', 'race', 'sex', \n",
    "                     'capital_gain', 'capital_loss', 'hours_per_week', 'native_country', 'income')"
   ]
  },
  {
   "cell_type": "code",
   "execution_count": 25,
   "metadata": {},
   "outputs": [],
   "source": [
    "adult$educatoin <- NULL\n",
    "adult$fnlwgt <- NULL\n",
    "adult$relationship <- NULL"
   ]
  },
  {
   "cell_type": "code",
   "execution_count": 26,
   "metadata": {},
   "outputs": [
    {
     "data": {},
     "metadata": {},
     "output_type": "display_data"
    },
    {
     "data": {
      "image/png": "[encoded data removed]",
      "text/plain": [
       "plot without title"
      ]
     },
     "metadata": {},
     "output_type": "display_data"
    }
   ],
   "source": [
    "ggplot(adult) + aes(x=as.numeric(age), group=income, fill=income) + \n",
    "  geom_histogram(binwidth=1, color='white')"
   ]
  },
  {
   "cell_type": "code",
   "execution_count": 43,
   "metadata": {
    "scrolled": true
   },
   "outputs": [
    {
     "data": {},
     "metadata": {},
     "output_type": "display_data"
    },
    {
     "data": {
      "image/png": "[encoded data removed]",
      "text/plain": [
       "plot without title"
      ]
     },
     "metadata": {},
     "output_type": "display_data"
    }
   ],
   "source": [
    "ggplot(adult) + aes(x=as.numeric(age), group=sex, fill=sex) + \n",
    "  geom_histogram(binwidth=1, color='white')"
   ]
  },
  {
   "cell_type": "code",
   "execution_count": 48,
   "metadata": {
    "scrolled": true
   },
   "outputs": [
    {
     "data": {},
     "metadata": {},
     "output_type": "display_data"
    },
    {
     "data": {
      "image/png": "[encoded data removed]",
      "text/plain": [
       "plot without title"
      ]
     },
     "metadata": {},
     "output_type": "display_data"
    }
   ],
   "source": []
  },
  {
   "cell_type": "code",
   "execution_count": 28,
   "metadata": {},
   "outputs": [
    {
     "data": {
      "text/html": [
       "<table>\n",
       "<thead><tr><th scope=col>income</th><th scope=col>education_num</th><th scope=col>count</th></tr></thead>\n",
       "<tbody>\n",
       "\t<tr><td> &lt;=50K                                   </td><td>1                                           </td><td><span style=white-space:pre-wrap>  51</span></td></tr>\n",
       "\t<tr><td> &gt;50K                                    </td><td>1                                           </td><td><span style=white-space:pre-wrap>   0</span></td></tr>\n",
       "\t<tr><td> &lt;=50K</td><td>2        </td><td> 162     </td></tr>\n",
       "\t<tr><td> &gt;50K                                    </td><td>2                                           </td><td><span style=white-space:pre-wrap>   6</span></td></tr>\n",
       "\t<tr><td> &lt;=50K</td><td>3        </td><td> 317     </td></tr>\n",
       "\t<tr><td> &gt;50K                                    </td><td>3                                           </td><td><span style=white-space:pre-wrap>  16</span></td></tr>\n",
       "\t<tr><td> &lt;=50K</td><td>4        </td><td> 606     </td></tr>\n",
       "\t<tr><td> &gt;50K                                    </td><td>4                                           </td><td><span style=white-space:pre-wrap>  40</span></td></tr>\n",
       "\t<tr><td> &lt;=50K</td><td>5        </td><td> 487     </td></tr>\n",
       "\t<tr><td> &gt;50K                                    </td><td>5                                           </td><td><span style=white-space:pre-wrap>  27</span></td></tr>\n",
       "\t<tr><td> &lt;=50K</td><td>6        </td><td> 871     </td></tr>\n",
       "\t<tr><td> &gt;50K                                    </td><td>6                                           </td><td><span style=white-space:pre-wrap>  62</span></td></tr>\n",
       "\t<tr><td> &lt;=50K</td><td>7        </td><td>1115     </td></tr>\n",
       "\t<tr><td> &gt;50K                                    </td><td>7                                           </td><td><span style=white-space:pre-wrap>  60</span></td></tr>\n",
       "\t<tr><td> &lt;=50K</td><td>8        </td><td> 400     </td></tr>\n",
       "\t<tr><td> &gt;50K                                    </td><td>8                                           </td><td><span style=white-space:pre-wrap>  33</span></td></tr>\n",
       "\t<tr><td> &lt;=50K</td><td>9        </td><td>8826     </td></tr>\n",
       "\t<tr><td> &gt;50K </td><td>9        </td><td>1675     </td></tr>\n",
       "\t<tr><td> &lt;=50K</td><td>10       </td><td>5904     </td></tr>\n",
       "\t<tr><td> &gt;50K </td><td>10       </td><td>1387     </td></tr>\n",
       "\t<tr><td> &lt;=50K</td><td>11       </td><td>1021     </td></tr>\n",
       "\t<tr><td> &gt;50K </td><td>11       </td><td> 361     </td></tr>\n",
       "\t<tr><td> &lt;=50K</td><td>12       </td><td> 802     </td></tr>\n",
       "\t<tr><td> &gt;50K </td><td>12       </td><td> 265     </td></tr>\n",
       "\t<tr><td> &lt;=50K</td><td>13       </td><td>3133     </td></tr>\n",
       "\t<tr><td> &gt;50K </td><td>13       </td><td>2221     </td></tr>\n",
       "\t<tr><td> &lt;=50K</td><td>14       </td><td> 764     </td></tr>\n",
       "\t<tr><td> &gt;50K </td><td>14       </td><td> 959     </td></tr>\n",
       "\t<tr><td> &lt;=50K</td><td>15       </td><td> 153     </td></tr>\n",
       "\t<tr><td> &gt;50K </td><td>15       </td><td> 423     </td></tr>\n",
       "\t<tr><td> &lt;=50K</td><td>16       </td><td> 107     </td></tr>\n",
       "\t<tr><td> &gt;50K </td><td>16       </td><td> 306     </td></tr>\n",
       "</tbody>\n",
       "</table>\n"
      ],
      "text/latex": [
       "\\begin{tabular}{r|lll}\n",
       " income & education\\_num & count\\\\\n",
       "\\hline\n",
       "\t  <=50K & 1      &   51  \\\\\n",
       "\t  >50K  & 1      &    0  \\\\\n",
       "\t  <=50K & 2      &  162  \\\\\n",
       "\t  >50K  & 2      &    6  \\\\\n",
       "\t  <=50K & 3      &  317  \\\\\n",
       "\t  >50K  & 3      &   16  \\\\\n",
       "\t  <=50K & 4      &  606  \\\\\n",
       "\t  >50K  & 4      &   40  \\\\\n",
       "\t  <=50K & 5      &  487  \\\\\n",
       "\t  >50K  & 5      &   27  \\\\\n",
       "\t  <=50K & 6      &  871  \\\\\n",
       "\t  >50K  & 6      &   62  \\\\\n",
       "\t  <=50K & 7      & 1115  \\\\\n",
       "\t  >50K  & 7      &   60  \\\\\n",
       "\t  <=50K & 8      &  400  \\\\\n",
       "\t  >50K  & 8      &   33  \\\\\n",
       "\t  <=50K & 9      & 8826  \\\\\n",
       "\t  >50K  & 9      & 1675  \\\\\n",
       "\t  <=50K & 10     & 5904  \\\\\n",
       "\t  >50K  & 10     & 1387  \\\\\n",
       "\t  <=50K & 11     & 1021  \\\\\n",
       "\t  >50K  & 11     &  361  \\\\\n",
       "\t  <=50K & 12     &  802  \\\\\n",
       "\t  >50K  & 12     &  265  \\\\\n",
       "\t  <=50K & 13     & 3133  \\\\\n",
       "\t  >50K  & 13     & 2221  \\\\\n",
       "\t  <=50K & 14     &  764  \\\\\n",
       "\t  >50K  & 14     &  959  \\\\\n",
       "\t  <=50K & 15     &  153  \\\\\n",
       "\t  >50K  & 15     &  423  \\\\\n",
       "\t  <=50K & 16     &  107  \\\\\n",
       "\t  >50K  & 16     &  306  \\\\\n",
       "\\end{tabular}\n"
      ],
      "text/markdown": [
       "\n",
       "income | education_num | count | \n",
       "|---|---|---|---|---|---|---|---|---|---|---|---|---|---|---|---|---|---|---|---|---|---|---|---|---|---|---|---|---|---|---|---|\n",
       "|  <=50K | 1      |   51   | \n",
       "|  >50K  | 1      |    0   | \n",
       "|  <=50K | 2      |  162   | \n",
       "|  >50K  | 2      |    6   | \n",
       "|  <=50K | 3      |  317   | \n",
       "|  >50K  | 3      |   16   | \n",
       "|  <=50K | 4      |  606   | \n",
       "|  >50K  | 4      |   40   | \n",
       "|  <=50K | 5      |  487   | \n",
       "|  >50K  | 5      |   27   | \n",
       "|  <=50K | 6      |  871   | \n",
       "|  >50K  | 6      |   62   | \n",
       "|  <=50K | 7      | 1115   | \n",
       "|  >50K  | 7      |   60   | \n",
       "|  <=50K | 8      |  400   | \n",
       "|  >50K  | 8      |   33   | \n",
       "|  <=50K | 9      | 8826   | \n",
       "|  >50K  | 9      | 1675   | \n",
       "|  <=50K | 10     | 5904   | \n",
       "|  >50K  | 10     | 1387   | \n",
       "|  <=50K | 11     | 1021   | \n",
       "|  >50K  | 11     |  361   | \n",
       "|  <=50K | 12     |  802   | \n",
       "|  >50K  | 12     |  265   | \n",
       "|  <=50K | 13     | 3133   | \n",
       "|  >50K  | 13     | 2221   | \n",
       "|  <=50K | 14     |  764   | \n",
       "|  >50K  | 14     |  959   | \n",
       "|  <=50K | 15     |  153   | \n",
       "|  >50K  | 15     |  423   | \n",
       "|  <=50K | 16     |  107   | \n",
       "|  >50K  | 16     |  306   | \n",
       "\n",
       "\n"
      ],
      "text/plain": [
       "   income education_num count\n",
       "1   <=50K 1               51 \n",
       "2   >50K  1                0 \n",
       "3   <=50K 2              162 \n",
       "4   >50K  2                6 \n",
       "5   <=50K 3              317 \n",
       "6   >50K  3               16 \n",
       "7   <=50K 4              606 \n",
       "8   >50K  4               40 \n",
       "9   <=50K 5              487 \n",
       "10  >50K  5               27 \n",
       "11  <=50K 6              871 \n",
       "12  >50K  6               62 \n",
       "13  <=50K 7             1115 \n",
       "14  >50K  7               60 \n",
       "15  <=50K 8              400 \n",
       "16  >50K  8               33 \n",
       "17  <=50K 9             8826 \n",
       "18  >50K  9             1675 \n",
       "19  <=50K 10            5904 \n",
       "20  >50K  10            1387 \n",
       "21  <=50K 11            1021 \n",
       "22  >50K  11             361 \n",
       "23  <=50K 12             802 \n",
       "24  >50K  12             265 \n",
       "25  <=50K 13            3133 \n",
       "26  >50K  13            2221 \n",
       "27  <=50K 14             764 \n",
       "28  >50K  14             959 \n",
       "29  <=50K 15             153 \n",
       "30  >50K  15             423 \n",
       "31  <=50K 16             107 \n",
       "32  >50K  16             306 "
      ]
     },
     "metadata": {},
     "output_type": "display_data"
    }
   ],
   "source": [
    "dataframe1 <- data.frame(table(adult$income, adult$education_num))\n",
    "names(dataframe1) <- c('income', 'education_num', 'count')\n",
    "dataframe1"
   ]
  },
  {
   "cell_type": "code",
   "execution_count": 29,
   "metadata": {},
   "outputs": [
    {
     "data": {
      "text/html": [
       "<table>\n",
       "<thead><tr><th scope=col>income</th><th scope=col>age</th><th scope=col>count</th></tr></thead>\n",
       "<tbody>\n",
       "\t<tr><td> &lt;=50K</td><td>17       </td><td>395      </td></tr>\n",
       "\t<tr><td> &gt;50K                                   </td><td>17                                         </td><td><span style=white-space:pre-wrap>  0</span></td></tr>\n",
       "\t<tr><td> &lt;=50K</td><td>18       </td><td>550      </td></tr>\n",
       "\t<tr><td> &gt;50K                                   </td><td>18                                         </td><td><span style=white-space:pre-wrap>  0</span></td></tr>\n",
       "\t<tr><td> &lt;=50K</td><td>19       </td><td>710      </td></tr>\n",
       "\t<tr><td> &gt;50K                                   </td><td>19                                         </td><td><span style=white-space:pre-wrap>  2</span></td></tr>\n",
       "\t<tr><td> &lt;=50K</td><td>20       </td><td>753      </td></tr>\n",
       "\t<tr><td> &gt;50K                                   </td><td>20                                         </td><td><span style=white-space:pre-wrap>  0</span></td></tr>\n",
       "\t<tr><td> &lt;=50K</td><td>21       </td><td>717      </td></tr>\n",
       "\t<tr><td> &gt;50K                                   </td><td>21                                         </td><td><span style=white-space:pre-wrap>  3</span></td></tr>\n",
       "\t<tr><td> &lt;=50K</td><td>22       </td><td>752      </td></tr>\n",
       "\t<tr><td> &gt;50K </td><td>22       </td><td> 13      </td></tr>\n",
       "\t<tr><td> &lt;=50K</td><td>23       </td><td>865      </td></tr>\n",
       "\t<tr><td> &gt;50K </td><td>23       </td><td> 12      </td></tr>\n",
       "\t<tr><td> &lt;=50K</td><td>24       </td><td>767      </td></tr>\n",
       "\t<tr><td> &gt;50K </td><td>24       </td><td> 31      </td></tr>\n",
       "\t<tr><td> &lt;=50K</td><td>25       </td><td>788      </td></tr>\n",
       "\t<tr><td> &gt;50K </td><td>25       </td><td> 53      </td></tr>\n",
       "\t<tr><td> &lt;=50K</td><td>26       </td><td>722      </td></tr>\n",
       "\t<tr><td> &gt;50K </td><td>26       </td><td> 63      </td></tr>\n",
       "\t<tr><td> &lt;=50K</td><td>27       </td><td>754      </td></tr>\n",
       "\t<tr><td> &gt;50K </td><td>27       </td><td> 81      </td></tr>\n",
       "\t<tr><td> &lt;=50K</td><td>28       </td><td>748      </td></tr>\n",
       "\t<tr><td> &gt;50K </td><td>28       </td><td>119      </td></tr>\n",
       "\t<tr><td> &lt;=50K</td><td>29       </td><td>679      </td></tr>\n",
       "\t<tr><td> &gt;50K </td><td>29       </td><td>134      </td></tr>\n",
       "\t<tr><td> &lt;=50K</td><td>30       </td><td>690      </td></tr>\n",
       "\t<tr><td> &gt;50K </td><td>30       </td><td>171      </td></tr>\n",
       "\t<tr><td> &lt;=50K</td><td>31       </td><td>705      </td></tr>\n",
       "\t<tr><td> &gt;50K </td><td>31       </td><td>183      </td></tr>\n",
       "\t<tr><td>⋮</td><td>⋮</td><td>⋮</td></tr>\n",
       "\t<tr><td> &lt;=50K</td><td>75       </td><td>38       </td></tr>\n",
       "\t<tr><td> &gt;50K </td><td>75       </td><td> 7       </td></tr>\n",
       "\t<tr><td> &lt;=50K</td><td>76       </td><td>41       </td></tr>\n",
       "\t<tr><td> &gt;50K </td><td>76       </td><td> 5       </td></tr>\n",
       "\t<tr><td> &lt;=50K</td><td>77       </td><td>24       </td></tr>\n",
       "\t<tr><td> &gt;50K </td><td>77       </td><td> 5       </td></tr>\n",
       "\t<tr><td> &lt;=50K</td><td>78       </td><td>18       </td></tr>\n",
       "\t<tr><td> &gt;50K </td><td>78       </td><td> 5       </td></tr>\n",
       "\t<tr><td> &lt;=50K</td><td>79       </td><td>13       </td></tr>\n",
       "\t<tr><td> &gt;50K </td><td>79       </td><td> 9       </td></tr>\n",
       "\t<tr><td> &lt;=50K</td><td>80       </td><td>20       </td></tr>\n",
       "\t<tr><td> &gt;50K </td><td>80       </td><td> 2       </td></tr>\n",
       "\t<tr><td> &lt;=50K</td><td>81       </td><td>17       </td></tr>\n",
       "\t<tr><td> &gt;50K </td><td>81       </td><td> 3       </td></tr>\n",
       "\t<tr><td> &lt;=50K</td><td>82       </td><td>12       </td></tr>\n",
       "\t<tr><td> &gt;50K </td><td>82       </td><td> 0       </td></tr>\n",
       "\t<tr><td> &lt;=50K</td><td>83       </td><td> 4       </td></tr>\n",
       "\t<tr><td> &gt;50K </td><td>83       </td><td> 2       </td></tr>\n",
       "\t<tr><td> &lt;=50K</td><td>84       </td><td> 9       </td></tr>\n",
       "\t<tr><td> &gt;50K </td><td>84       </td><td> 1       </td></tr>\n",
       "\t<tr><td> &lt;=50K</td><td>85       </td><td> 3       </td></tr>\n",
       "\t<tr><td> &gt;50K </td><td>85       </td><td> 0       </td></tr>\n",
       "\t<tr><td> &lt;=50K</td><td>86       </td><td> 1       </td></tr>\n",
       "\t<tr><td> &gt;50K </td><td>86       </td><td> 0       </td></tr>\n",
       "\t<tr><td> &lt;=50K</td><td>87       </td><td> 1       </td></tr>\n",
       "\t<tr><td> &gt;50K </td><td>87       </td><td> 0       </td></tr>\n",
       "\t<tr><td> &lt;=50K</td><td>88       </td><td> 3       </td></tr>\n",
       "\t<tr><td> &gt;50K </td><td>88       </td><td> 0       </td></tr>\n",
       "\t<tr><td> &lt;=50K</td><td>90       </td><td>35       </td></tr>\n",
       "\t<tr><td> &gt;50K </td><td>90       </td><td> 8       </td></tr>\n",
       "</tbody>\n",
       "</table>\n"
      ],
      "text/latex": [
       "\\begin{tabular}{r|lll}\n",
       " income & age & count\\\\\n",
       "\\hline\n",
       "\t  <=50K & 17     & 395   \\\\\n",
       "\t  >50K  & 17     &   0   \\\\\n",
       "\t  <=50K & 18     & 550   \\\\\n",
       "\t  >50K  & 18     &   0   \\\\\n",
       "\t  <=50K & 19     & 710   \\\\\n",
       "\t  >50K  & 19     &   2   \\\\\n",
       "\t  <=50K & 20     & 753   \\\\\n",
       "\t  >50K  & 20     &   0   \\\\\n",
       "\t  <=50K & 21     & 717   \\\\\n",
       "\t  >50K  & 21     &   3   \\\\\n",
       "\t  <=50K & 22     & 752   \\\\\n",
       "\t  >50K  & 22     &  13   \\\\\n",
       "\t  <=50K & 23     & 865   \\\\\n",
       "\t  >50K  & 23     &  12   \\\\\n",
       "\t  <=50K & 24     & 767   \\\\\n",
       "\t  >50K  & 24     &  31   \\\\\n",
       "\t  <=50K & 25     & 788   \\\\\n",
       "\t  >50K  & 25     &  53   \\\\\n",
       "\t  <=50K & 26     & 722   \\\\\n",
       "\t  >50K  & 26     &  63   \\\\\n",
       "\t  <=50K & 27     & 754   \\\\\n",
       "\t  >50K  & 27     &  81   \\\\\n",
       "\t  <=50K & 28     & 748   \\\\\n",
       "\t  >50K  & 28     & 119   \\\\\n",
       "\t  <=50K & 29     & 679   \\\\\n",
       "\t  >50K  & 29     & 134   \\\\\n",
       "\t  <=50K & 30     & 690   \\\\\n",
       "\t  >50K  & 30     & 171   \\\\\n",
       "\t  <=50K & 31     & 705   \\\\\n",
       "\t  >50K  & 31     & 183   \\\\\n",
       "\t ⋮ & ⋮ & ⋮\\\\\n",
       "\t  <=50K & 75     & 38    \\\\\n",
       "\t  >50K  & 75     &  7    \\\\\n",
       "\t  <=50K & 76     & 41    \\\\\n",
       "\t  >50K  & 76     &  5    \\\\\n",
       "\t  <=50K & 77     & 24    \\\\\n",
       "\t  >50K  & 77     &  5    \\\\\n",
       "\t  <=50K & 78     & 18    \\\\\n",
       "\t  >50K  & 78     &  5    \\\\\n",
       "\t  <=50K & 79     & 13    \\\\\n",
       "\t  >50K  & 79     &  9    \\\\\n",
       "\t  <=50K & 80     & 20    \\\\\n",
       "\t  >50K  & 80     &  2    \\\\\n",
       "\t  <=50K & 81     & 17    \\\\\n",
       "\t  >50K  & 81     &  3    \\\\\n",
       "\t  <=50K & 82     & 12    \\\\\n",
       "\t  >50K  & 82     &  0    \\\\\n",
       "\t  <=50K & 83     &  4    \\\\\n",
       "\t  >50K  & 83     &  2    \\\\\n",
       "\t  <=50K & 84     &  9    \\\\\n",
       "\t  >50K  & 84     &  1    \\\\\n",
       "\t  <=50K & 85     &  3    \\\\\n",
       "\t  >50K  & 85     &  0    \\\\\n",
       "\t  <=50K & 86     &  1    \\\\\n",
       "\t  >50K  & 86     &  0    \\\\\n",
       "\t  <=50K & 87     &  1    \\\\\n",
       "\t  >50K  & 87     &  0    \\\\\n",
       "\t  <=50K & 88     &  3    \\\\\n",
       "\t  >50K  & 88     &  0    \\\\\n",
       "\t  <=50K & 90     & 35    \\\\\n",
       "\t  >50K  & 90     &  8    \\\\\n",
       "\\end{tabular}\n"
      ],
      "text/markdown": [
       "\n",
       "income | age | count | \n",
       "|---|---|---|---|---|---|---|---|---|---|---|---|---|---|---|---|---|---|---|---|---|---|---|---|---|---|---|---|---|---|---|---|---|---|---|---|---|---|---|---|---|---|---|---|---|---|---|---|---|---|---|---|---|---|---|---|---|---|---|---|---|\n",
       "|  <=50K | 17     | 395    | \n",
       "|  >50K  | 17     |   0    | \n",
       "|  <=50K | 18     | 550    | \n",
       "|  >50K  | 18     |   0    | \n",
       "|  <=50K | 19     | 710    | \n",
       "|  >50K  | 19     |   2    | \n",
       "|  <=50K | 20     | 753    | \n",
       "|  >50K  | 20     |   0    | \n",
       "|  <=50K | 21     | 717    | \n",
       "|  >50K  | 21     |   3    | \n",
       "|  <=50K | 22     | 752    | \n",
       "|  >50K  | 22     |  13    | \n",
       "|  <=50K | 23     | 865    | \n",
       "|  >50K  | 23     |  12    | \n",
       "|  <=50K | 24     | 767    | \n",
       "|  >50K  | 24     |  31    | \n",
       "|  <=50K | 25     | 788    | \n",
       "|  >50K  | 25     |  53    | \n",
       "|  <=50K | 26     | 722    | \n",
       "|  >50K  | 26     |  63    | \n",
       "|  <=50K | 27     | 754    | \n",
       "|  >50K  | 27     |  81    | \n",
       "|  <=50K | 28     | 748    | \n",
       "|  >50K  | 28     | 119    | \n",
       "|  <=50K | 29     | 679    | \n",
       "|  >50K  | 29     | 134    | \n",
       "|  <=50K | 30     | 690    | \n",
       "|  >50K  | 30     | 171    | \n",
       "|  <=50K | 31     | 705    | \n",
       "|  >50K  | 31     | 183    | \n",
       "| ⋮ | ⋮ | ⋮ | \n",
       "|  <=50K | 75     | 38     | \n",
       "|  >50K  | 75     |  7     | \n",
       "|  <=50K | 76     | 41     | \n",
       "|  >50K  | 76     |  5     | \n",
       "|  <=50K | 77     | 24     | \n",
       "|  >50K  | 77     |  5     | \n",
       "|  <=50K | 78     | 18     | \n",
       "|  >50K  | 78     |  5     | \n",
       "|  <=50K | 79     | 13     | \n",
       "|  >50K  | 79     |  9     | \n",
       "|  <=50K | 80     | 20     | \n",
       "|  >50K  | 80     |  2     | \n",
       "|  <=50K | 81     | 17     | \n",
       "|  >50K  | 81     |  3     | \n",
       "|  <=50K | 82     | 12     | \n",
       "|  >50K  | 82     |  0     | \n",
       "|  <=50K | 83     |  4     | \n",
       "|  >50K  | 83     |  2     | \n",
       "|  <=50K | 84     |  9     | \n",
       "|  >50K  | 84     |  1     | \n",
       "|  <=50K | 85     |  3     | \n",
       "|  >50K  | 85     |  0     | \n",
       "|  <=50K | 86     |  1     | \n",
       "|  >50K  | 86     |  0     | \n",
       "|  <=50K | 87     |  1     | \n",
       "|  >50K  | 87     |  0     | \n",
       "|  <=50K | 88     |  3     | \n",
       "|  >50K  | 88     |  0     | \n",
       "|  <=50K | 90     | 35     | \n",
       "|  >50K  | 90     |  8     | \n",
       "\n",
       "\n"
      ],
      "text/plain": [
       "    income age count\n",
       "1    <=50K 17  395  \n",
       "2    >50K  17    0  \n",
       "3    <=50K 18  550  \n",
       "4    >50K  18    0  \n",
       "5    <=50K 19  710  \n",
       "6    >50K  19    2  \n",
       "7    <=50K 20  753  \n",
       "8    >50K  20    0  \n",
       "9    <=50K 21  717  \n",
       "10   >50K  21    3  \n",
       "11   <=50K 22  752  \n",
       "12   >50K  22   13  \n",
       "13   <=50K 23  865  \n",
       "14   >50K  23   12  \n",
       "15   <=50K 24  767  \n",
       "16   >50K  24   31  \n",
       "17   <=50K 25  788  \n",
       "18   >50K  25   53  \n",
       "19   <=50K 26  722  \n",
       "20   >50K  26   63  \n",
       "21   <=50K 27  754  \n",
       "22   >50K  27   81  \n",
       "23   <=50K 28  748  \n",
       "24   >50K  28  119  \n",
       "25   <=50K 29  679  \n",
       "26   >50K  29  134  \n",
       "27   <=50K 30  690  \n",
       "28   >50K  30  171  \n",
       "29   <=50K 31  705  \n",
       "30   >50K  31  183  \n",
       "⋮   ⋮      ⋮   ⋮    \n",
       "117  <=50K 75  38   \n",
       "118  >50K  75   7   \n",
       "119  <=50K 76  41   \n",
       "120  >50K  76   5   \n",
       "121  <=50K 77  24   \n",
       "122  >50K  77   5   \n",
       "123  <=50K 78  18   \n",
       "124  >50K  78   5   \n",
       "125  <=50K 79  13   \n",
       "126  >50K  79   9   \n",
       "127  <=50K 80  20   \n",
       "128  >50K  80   2   \n",
       "129  <=50K 81  17   \n",
       "130  >50K  81   3   \n",
       "131  <=50K 82  12   \n",
       "132  >50K  82   0   \n",
       "133  <=50K 83   4   \n",
       "134  >50K  83   2   \n",
       "135  <=50K 84   9   \n",
       "136  >50K  84   1   \n",
       "137  <=50K 85   3   \n",
       "138  >50K  85   0   \n",
       "139  <=50K 86   1   \n",
       "140  >50K  86   0   \n",
       "141  <=50K 87   1   \n",
       "142  >50K  87   0   \n",
       "143  <=50K 88   3   \n",
       "144  >50K  88   0   \n",
       "145  <=50K 90  35   \n",
       "146  >50K  90   8   "
      ]
     },
     "metadata": {},
     "output_type": "display_data"
    }
   ],
   "source": [
    "dataframe2 <- data.frame(table(adult$income, adult$age))\n",
    "names(dataframe2) <- c('income', 'age', 'count')\n",
    "dataframe2 \n"
   ]
  },
  {
   "cell_type": "code",
   "execution_count": null,
   "metadata": {},
   "outputs": [],
   "source": []
  },
  {
   "cell_type": "code",
   "execution_count": 30,
   "metadata": {},
   "outputs": [
    {
     "data": {
      "image/png": "[encoded data removed]",
      "text/plain": [
       "Plot with title “Age distribution for different income levels”"
      ]
     },
     "metadata": {},
     "output_type": "display_data"
    }
   ],
   "source": [
    "\n",
    "boxplot (age ~ income, data= adult, \n",
    "         main= \"Age distribution\",\n",
    "         xlab= \"income\", ylab= \"Age\", col= \"salmon\")"
   ]
  },
  {
   "cell_type": "code",
   "execution_count": 35,
   "metadata": {},
   "outputs": [],
   "source": [
    "size <- round(.66 * dim(adult)[1])  # training set size\n",
    "training_set <- adult[1:size,]\n",
    "testing_set <- adult[-(1:size),]"
   ]
  },
  {
   "cell_type": "code",
   "execution_count": 36,
   "metadata": {},
   "outputs": [
    {
     "data": {
      "text/plain": [
       "\n",
       "Call:\n",
       "glm(formula = income ~ ., family = binomial(\"logit\"), data = training_set)\n",
       "\n",
       "Deviance Residuals: \n",
       "    Min       1Q   Median       3Q      Max  \n",
       "-4.8935  -0.5077  -0.2105  -0.0430   3.4174  \n",
       "\n",
       "Coefficients: (1 not defined because of singularities)\n",
       "                                            Estimate Std. Error z value\n",
       "(Intercept)                               -9.574e+00  3.886e-01 -24.640\n",
       "age                                        2.540e-02  1.938e-03  13.109\n",
       "workclass Federal-gov                      9.963e-01  1.853e-01   5.376\n",
       "workclass Local-gov                        3.413e-01  1.689e-01   2.020\n",
       "workclass Never-worked                    -9.526e+00  7.223e+02  -0.013\n",
       "workclass Private                          5.263e-01  1.509e-01   3.487\n",
       "workclass Self-emp-inc                     7.510e-01  1.810e-01   4.150\n",
       "workclass Self-emp-not-inc                 1.422e-01  1.662e-01   0.855\n",
       "workclass State-gov                        1.967e-01  1.837e-01   1.071\n",
       "workclass Without-pay                     -1.271e+01  4.911e+02  -0.026\n",
       "educatoin_num                              2.786e-01  1.127e-02  24.730\n",
       "marital_status Married-AF-spouse           2.924e+00  5.838e-01   5.008\n",
       "marital_status Married-civ-spouse          2.222e+00  8.255e-02  26.921\n",
       "marital_status Married-spouse-absent       6.727e-03  2.711e-01   0.025\n",
       "marital_status Never-married              -4.120e-01  1.005e-01  -4.102\n",
       "marital_status Separated                   9.109e-02  1.905e-01   0.478\n",
       "marital_status Widowed                    -7.032e-03  1.919e-01  -0.037\n",
       "occupation Adm-clerical                    7.161e-02  1.185e-01   0.604\n",
       "occupation Armed-Forces                   -1.329e+01  5.157e+02  -0.026\n",
       "occupation Craft-repair                    1.123e-01  1.034e-01   1.086\n",
       "occupation Exec-managerial                 8.337e-01  1.056e-01   7.894\n",
       "occupation Farming-fishing                -1.152e+00  1.799e-01  -6.404\n",
       "occupation Handlers-cleaners              -6.115e-01  1.784e-01  -3.427\n",
       "occupation Machine-op-inspct              -2.419e-01  1.292e-01  -1.872\n",
       "occupation Other-service                  -6.616e-01  1.476e-01  -4.483\n",
       "occupation Priv-house-serv                -1.215e+01  1.189e+02  -0.102\n",
       "occupation Prof-specialty                  6.647e-01  1.126e-01   5.904\n",
       "occupation Protective-serv                 5.890e-01  1.578e-01   3.733\n",
       "occupation Sales                           2.558e-01  1.090e-01   2.347\n",
       "occupation Tech-support                    7.319e-01  1.429e-01   5.122\n",
       "occupation Transport-moving                       NA         NA      NA\n",
       "race Asian-Pac-Islander                    5.154e-01  3.298e-01   1.563\n",
       "race Black                                 4.186e-01  2.799e-01   1.495\n",
       "race Other                                -1.604e-01  4.522e-01  -0.355\n",
       "race White                                 5.220e-01  2.670e-01   1.955\n",
       "sex Male                                   1.319e-01  6.359e-02   2.075\n",
       "capital_gain                               3.011e-04  1.207e-05  24.951\n",
       "capital_loss                               6.888e-04  4.573e-05  15.064\n",
       "hours_per_week                             2.933e-02  1.974e-03  14.856\n",
       "native_country Cambodia                    1.082e+00  8.082e-01   1.339\n",
       "native_country Canada                      5.269e-01  3.504e-01   1.504\n",
       "native_country China                      -7.832e-01  5.169e-01  -1.515\n",
       "native_country Columbia                   -1.506e+00  8.860e-01  -1.699\n",
       "native_country Cuba                        3.333e-01  4.010e-01   0.831\n",
       "native_country Dominican-Republic         -1.075e+00  1.084e+00  -0.993\n",
       "native_country Ecuador                    -1.206e+00  1.038e+00  -1.162\n",
       "native_country El-Salvador                -9.852e-01  6.902e-01  -1.427\n",
       "native_country England                     4.035e-01  3.918e-01   1.030\n",
       "native_country France                      7.496e-01  7.890e-01   0.950\n",
       "native_country Germany                     6.709e-01  3.328e-01   2.016\n",
       "native_country Greece                     -1.206e+00  6.754e-01  -1.785\n",
       "native_country Guatemala                  -1.544e+00  1.456e+00  -1.061\n",
       "native_country Haiti                       8.620e-02  7.921e-01   0.109\n",
       "native_country Holand-Netherlands         -1.268e+01  1.455e+03  -0.009\n",
       "native_country Honduras                   -4.939e-01  2.429e+00  -0.203\n",
       "native_country Hong                        6.423e-01  8.273e-01   0.776\n",
       "native_country Hungary                    -6.785e-01  1.144e+00  -0.593\n",
       "native_country India                      -1.966e-01  4.227e-01  -0.465\n",
       "native_country Iran                       -2.180e-01  5.378e-01  -0.405\n",
       "native_country Ireland                     8.728e-01  7.400e-01   1.180\n",
       "native_country Italy                       1.506e+00  4.111e-01   3.662\n",
       "native_country Jamaica                     7.688e-01  4.847e-01   1.586\n",
       "native_country Japan                       6.149e-01  5.239e-01   1.174\n",
       "native_country Laos                       -1.344e+01  5.616e+02  -0.024\n",
       "native_country Mexico                     -2.104e-01  3.043e-01  -0.691\n",
       "native_country Nicaragua                  -2.248e-01  8.418e-01  -0.267\n",
       "native_country Outlying-US(Guam-USVI-etc) -1.297e+01  4.952e+02  -0.026\n",
       "native_country Peru                       -9.601e-01  1.308e+00  -0.734\n",
       "native_country Philippines                 2.423e-01  3.518e-01   0.689\n",
       "native_country Poland                      3.397e-01  4.684e-01   0.725\n",
       "native_country Portugal                    7.471e-01  7.177e-01   1.041\n",
       "native_country Puerto-Rico                 3.637e-02  4.657e-01   0.078\n",
       "native_country Scotland                    3.302e-01  1.217e+00   0.271\n",
       "native_country South                      -5.623e-01  5.141e-01  -1.094\n",
       "native_country Taiwan                      2.124e-01  5.253e-01   0.404\n",
       "native_country Thailand                   -2.076e-01  8.560e-01  -0.243\n",
       "native_country Trinadad&Tobago            -4.293e-01  1.322e+00  -0.325\n",
       "native_country United-States               2.744e-01  1.662e-01   1.651\n",
       "native_country Vietnam                    -1.542e+00  8.420e-01  -1.831\n",
       "native_country Yugoslavia                  1.381e+00  8.810e-01   1.567\n",
       "                                          Pr(>|z|)    \n",
       "(Intercept)                                < 2e-16 ***\n",
       "age                                        < 2e-16 ***\n",
       "workclass Federal-gov                     7.63e-08 ***\n",
       "workclass Local-gov                       0.043375 *  \n",
       "workclass Never-worked                    0.989478    \n",
       "workclass Private                         0.000489 ***\n",
       "workclass Self-emp-inc                    3.33e-05 ***\n",
       "workclass Self-emp-not-inc                0.392325    \n",
       "workclass State-gov                       0.284339    \n",
       "workclass Without-pay                     0.979345    \n",
       "educatoin_num                              < 2e-16 ***\n",
       "marital_status Married-AF-spouse          5.49e-07 ***\n",
       "marital_status Married-civ-spouse          < 2e-16 ***\n",
       "marital_status Married-spouse-absent      0.980206    \n",
       "marital_status Never-married              4.10e-05 ***\n",
       "marital_status Separated                  0.632495    \n",
       "marital_status Widowed                    0.970768    \n",
       "occupation Adm-clerical                   0.545802    \n",
       "occupation Armed-Forces                   0.979440    \n",
       "occupation Craft-repair                   0.277350    \n",
       "occupation Exec-managerial                2.94e-15 ***\n",
       "occupation Farming-fishing                1.51e-10 ***\n",
       "occupation Handlers-cleaners              0.000610 ***\n",
       "occupation Machine-op-inspct              0.061146 .  \n",
       "occupation Other-service                  7.36e-06 ***\n",
       "occupation Priv-house-serv                0.918575    \n",
       "occupation Prof-specialty                 3.55e-09 ***\n",
       "occupation Protective-serv                0.000189 ***\n",
       "occupation Sales                          0.018926 *  \n",
       "occupation Tech-support                   3.02e-07 ***\n",
       "occupation Transport-moving                     NA    \n",
       "race Asian-Pac-Islander                   0.118048    \n",
       "race Black                                0.134787    \n",
       "race Other                                0.722874    \n",
       "race White                                0.050571 .  \n",
       "sex Male                                  0.038009 *  \n",
       "capital_gain                               < 2e-16 ***\n",
       "capital_loss                               < 2e-16 ***\n",
       "hours_per_week                             < 2e-16 ***\n",
       "native_country Cambodia                   0.180517    \n",
       "native_country Canada                     0.132676    \n",
       "native_country China                      0.129697    \n",
       "native_country Columbia                   0.089277 .  \n",
       "native_country Cuba                       0.405857    \n",
       "native_country Dominican-Republic         0.320923    \n",
       "native_country Ecuador                    0.245190    \n",
       "native_country El-Salvador                0.153448    \n",
       "native_country England                    0.302995    \n",
       "native_country France                     0.342110    \n",
       "native_country Germany                    0.043833 *  \n",
       "native_country Greece                     0.074261 .  \n",
       "native_country Guatemala                  0.288706    \n",
       "native_country Haiti                      0.913337    \n",
       "native_country Holand-Netherlands         0.993050    \n",
       "native_country Honduras                   0.838834    \n",
       "native_country Hong                       0.437566    \n",
       "native_country Hungary                    0.553084    \n",
       "native_country India                      0.641860    \n",
       "native_country Iran                       0.685217    \n",
       "native_country Ireland                    0.238199    \n",
       "native_country Italy                      0.000250 ***\n",
       "native_country Jamaica                    0.112725    \n",
       "native_country Japan                      0.240522    \n",
       "native_country Laos                       0.980910    \n",
       "native_country Mexico                     0.489266    \n",
       "native_country Nicaragua                  0.789416    \n",
       "native_country Outlying-US(Guam-USVI-etc) 0.979108    \n",
       "native_country Peru                       0.462840    \n",
       "native_country Philippines                0.491015    \n",
       "native_country Poland                     0.468397    \n",
       "native_country Portugal                   0.297895    \n",
       "native_country Puerto-Rico                0.937753    \n",
       "native_country Scotland                   0.786106    \n",
       "native_country South                      0.274024    \n",
       "native_country Taiwan                     0.685939    \n",
       "native_country Thailand                   0.808360    \n",
       "native_country Trinadad&Tobago            0.745291    \n",
       "native_country United-States              0.098800 .  \n",
       "native_country Vietnam                    0.067077 .  \n",
       "native_country Yugoslavia                 0.117028    \n",
       "---\n",
       "Signif. codes:  0 ‘***’ 0.001 ‘**’ 0.01 ‘*’ 0.05 ‘.’ 0.1 ‘ ’ 1\n",
       "\n",
       "(Dispersion parameter for binomial family taken to be 1)\n",
       "\n",
       "    Null deviance: 23631  on 21489  degrees of freedom\n",
       "Residual deviance: 13928  on 21411  degrees of freedom\n",
       "AIC: 14086\n",
       "\n",
       "Number of Fisher Scoring iterations: 14\n"
      ]
     },
     "metadata": {},
     "output_type": "display_data"
    }
   ],
   "source": [
    "m1 <- glm(income ~ ., data = training_set, family = binomial('logit'))\n",
    "summary(m1)"
   ]
  },
  {
   "cell_type": "code",
   "execution_count": 37,
   "metadata": {},
   "outputs": [
    {
     "name": "stderr",
     "output_type": "stream",
     "text": [
      "Warning message in predict.lm(object, newdata, se.fit, scale = 1, type = ifelse(type == :\n",
      "“prediction from a rank-deficient fit may be misleading”"
     ]
    },
    {
     "data": {
      "text/plain": [
       "       \n",
       "pred     <=50K  >50K\n",
       "  <=50K   7794  1063\n",
       "  >50K     569  1644"
      ]
     },
     "metadata": {},
     "output_type": "display_data"
    }
   ],
   "source": [
    "prob <- predict(m1, testing_set, type = 'response')\n",
    "pred <- rep('<=50K', length(prob))\n",
    "pred[prob>=.5] <- '>50K'\n",
    "# confusion matrix \n",
    "tb <- table(pred, testing_set$income)\n",
    "tb"
   ]
  },
  {
   "cell_type": "code",
   "execution_count": 39,
   "metadata": {},
   "outputs": [
    {
     "name": "stdout",
     "output_type": "stream",
     "text": [
      "[1] 0.8525745\n"
     ]
    }
   ],
   "source": [
    "accuracy <- (7794+1644)/(7794+1644+1063+569)\n",
    "print(accuracy)"
   ]
  },
  {
   "cell_type": "code",
   "execution_count": 49,
   "metadata": {},
   "outputs": [
    {
     "data": {
      "text/plain": [
       "1572720 bytes"
      ]
     },
     "metadata": {},
     "output_type": "display_data"
    }
   ],
   "source": [
    "object.size(adult)"
   ]
  },
  {
   "cell_type": "code",
   "execution_count": null,
   "metadata": {},
   "outputs": [],
   "source": []
  }
 ],
 "metadata": {
  "kernelspec": {
   "display_name": "R",
   "language": "R",
   "name": "ir"
  },
  "language_info": {
   "codemirror_mode": "r",
   "file_extension": ".r",
   "mimetype": "text/x-r-source",
   "name": "R",
   "pygments_lexer": "r",
   "version": "3.3.2"
  }
 },
 "nbformat": 4,
 "nbformat_minor": 2
}
